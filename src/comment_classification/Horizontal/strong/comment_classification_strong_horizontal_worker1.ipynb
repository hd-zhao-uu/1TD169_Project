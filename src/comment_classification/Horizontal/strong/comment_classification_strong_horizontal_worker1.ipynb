{
 "cells": [
  {
   "cell_type": "markdown",
   "metadata": {},
   "source": [
    "# Strong Scaling"
   ]
  },
  {
   "cell_type": "code",
   "execution_count": 1,
   "metadata": {},
   "outputs": [],
   "source": [
    "import json\n",
    "import time\n",
    "\n",
    "from pyspark.sql import SparkSession\n",
    "from nltk.sentiment import SentimentIntensityAnalyzer\n"
   ]
  },
  {
   "cell_type": "code",
   "execution_count": 2,
   "metadata": {},
   "outputs": [],
   "source": [
    "def preprocess(rdd):\n",
    "    rdd = rdd.map(lambda line: json.loads(line))\\\n",
    "             .map(lambda line: line['body']) \\\n",
    "             .map(lambda line: line.strip())\n",
    "    return rdd\n",
    "\n",
    "\n",
    "def classify_comments(rdd):\n",
    "    sia = SentimentIntensityAnalyzer()\n",
    "\n",
    "    def _classify(comment):\n",
    "        scores = sia.polarity_scores(comment)\n",
    "        compound = scores['compound']\n",
    "        if compound >= 0.05:\n",
    "            return 'positive'\n",
    "        elif compound <= -0.05:\n",
    "            return 'negative'\n",
    "        else:\n",
    "            return 'neutral'\n",
    "\n",
    "    m_rdd = rdd.map(lambda line: (line, _classify(line)))\n",
    "    return m_rdd\n",
    "\n",
    "\n",
    "def analyze_comments(rdd):\n",
    "    rdd = rdd.map(lambda pair: pair[1]) \\\n",
    "             .map(lambda k: (k, 1)) \\\n",
    "             .reduceByKey(lambda v1, v2: v1+v2)\\\n",
    "             .map(lambda kv: (kv[1], kv[0])) \\\n",
    "             .sortByKey(False)\\\n",
    "             .map(lambda vk: (vk[1], vk[0]))\n",
    "    return rdd\n",
    "\n",
    "\n",
    "def rdd_slice(rdd, start, end):\n",
    "    rdd = rdd.zipWithIndex()\\\n",
    "            .filter(lambda kv: kv[1] >= start and kv[1] <= end) \\\n",
    "            .map(lambda kv: kv[0])\n",
    "    return rdd     \n",
    "\n"
   ]
  },
  {
   "cell_type": "markdown",
   "metadata": {},
   "source": [
    "---"
   ]
  },
  {
   "cell_type": "code",
   "execution_count": 3,
   "metadata": {},
   "outputs": [],
   "source": [
    "data_path = \"RC_2011-07\"\n",
    "executor_memory = \"3g\"\n",
    "data_size = 1000000"
   ]
  },
  {
   "cell_type": "code",
   "execution_count": 4,
   "metadata": {},
   "outputs": [
    {
     "name": "stderr",
     "output_type": "stream",
     "text": [
      "Using Spark's default log4j profile: org/apache/spark/log4j-defaults.properties\n",
      "Setting default log level to \"WARN\".\n",
      "To adjust logging level use sc.setLogLevel(newLevel). For SparkR, use setLogLevel(newLevel).\n",
      "22/03/18 23:19:56 WARN NativeCodeLoader: Unable to load native-hadoop library for your platform... using builtin-java classes where applicable\n",
      "22/03/18 23:19:58 WARN ExecutorAllocationManager: Dynamic allocation without a shuffle service is an experimental feature.\n",
      "                                                                                \r"
     ]
    }
   ],
   "source": [
    "# New API\n",
    "spark_session = SparkSession\\\n",
    "    .builder\\\n",
    "    .master(\"spark://master:7077\") \\\n",
    "    .appName(\"haodong_zhao_comment_classification_horizontal_strong_worker1\")\\\n",
    "    .config(\"spark.dynamicAllocation.enabled\", True)\\\n",
    "    .config(\"spark.dynamicAllocation.shuffleTracking.enabled\", True)\\\n",
    "    .config(\"spark.shuffle.service.enabled\", False)\\\n",
    "    .config(\"spark.dynamicAllocation.executorIdleTimeout\", \"300s\")\\\n",
    "    .config(\"spark.executor.memory\", executor_memory)\\\n",
    "    .config(\"spark.executor.cores\", 2)\\\n",
    "    .config(\"spark.driver.port\", 9998)\\\n",
    "    .config(\"spark.blockManager.port\", 10005)\\\n",
    "    .getOrCreate()\n",
    "\n",
    "# Old API (RDD)\n",
    "spark_context = spark_session.sparkContext\n",
    "\n",
    "spark_context.setLogLevel(\"ERROR\")\n",
    "\n",
    "\n",
    "rc_lines = spark_context.textFile(\n",
    "    'hdfs://master:9000/dataset/' + data_path).cache()\n",
    "\n",
    "rc_lines = rdd_slice(rc_lines, 0, data_size-1)"
   ]
  },
  {
   "cell_type": "code",
   "execution_count": 5,
   "metadata": {},
   "outputs": [
    {
     "name": "stderr",
     "output_type": "stream",
     "text": [
      "                                                                                \r"
     ]
    }
   ],
   "source": [
    "# Start Timing\n",
    "start = time.time()\n",
    "\n",
    "results = analyze_comments(classify_comments(preprocess(rc_lines))).collect()\n",
    "# End Timing\n",
    "end = time.time()\n",
    "\n",
    "elapsed = end - start"
   ]
  },
  {
   "cell_type": "code",
   "execution_count": 6,
   "metadata": {},
   "outputs": [
    {
     "name": "stdout",
     "output_type": "stream",
     "text": [
      "Elapsed time: 251.2565562725067s\n",
      "Results:  [('positive', 414697), ('neutral', 338313), ('negative', 246990)]\n"
     ]
    }
   ],
   "source": [
    "print(\"Elapsed time: {}s\".format(elapsed))\n",
    "print(\"Results: \", results)"
   ]
  },
  {
   "cell_type": "code",
   "execution_count": 7,
   "metadata": {},
   "outputs": [],
   "source": [
    "spark_session.stop()"
   ]
  },
  {
   "cell_type": "markdown",
   "metadata": {},
   "source": [
    "---"
   ]
  },
  {
   "cell_type": "code",
   "execution_count": 8,
   "metadata": {},
   "outputs": [],
   "source": [
    "data_path = \"RC_2011-07\"\n",
    "executor_memory = \"3g\"\n",
    "data_size = 2000000"
   ]
  },
  {
   "cell_type": "code",
   "execution_count": 9,
   "metadata": {},
   "outputs": [
    {
     "name": "stderr",
     "output_type": "stream",
     "text": [
      "                                                                                \r"
     ]
    },
    {
     "name": "stdout",
     "output_type": "stream",
     "text": [
      "Elapsed time: 464.3368036746979s\n",
      "Results:  [('positive', 832168), ('neutral', 667892), ('negative', 499940)]\n"
     ]
    }
   ],
   "source": [
    "# New API\n",
    "spark_session = SparkSession\\\n",
    "    .builder\\\n",
    "    .master(\"spark://master:7077\") \\\n",
    "    .appName(\"haodong_zhao_comment_classification_horizontal_strong_worker1\")\\\n",
    "    .config(\"spark.dynamicAllocation.enabled\", True)\\\n",
    "    .config(\"spark.dynamicAllocation.shuffleTracking.enabled\", True)\\\n",
    "    .config(\"spark.shuffle.service.enabled\", False)\\\n",
    "    .config(\"spark.dynamicAllocation.executorIdleTimeout\", \"300s\")\\\n",
    "    .config(\"spark.executor.memory\", executor_memory)\\\n",
    "    .config(\"spark.executor.cores\", 2)\\\n",
    "    .config(\"spark.driver.port\", 9998)\\\n",
    "    .config(\"spark.blockManager.port\", 10005)\\\n",
    "    .getOrCreate()\n",
    "\n",
    "# Old API (RDD)\n",
    "spark_context = spark_session.sparkContext\n",
    "\n",
    "spark_context.setLogLevel(\"ERROR\")\n",
    "\n",
    "\n",
    "rc_lines = spark_context.textFile(\n",
    "    'hdfs://master:9000/dataset/' + data_path).cache()\n",
    "\n",
    "rc_lines = rdd_slice(rc_lines, 0, data_size-1)\n",
    "\n",
    "# Start Timing\n",
    "start = time.time()\n",
    "\n",
    "results = analyze_comments(classify_comments(preprocess(rc_lines))).collect()\n",
    "\n",
    "# End Timing\n",
    "end = time.time()\n",
    "elapsed = end - start\n",
    "\n",
    "print(\"Elapsed time: {}s\".format(elapsed))\n",
    "print(\"Results: \", results)\n",
    "spark_session.stop()"
   ]
  },
  {
   "cell_type": "markdown",
   "metadata": {},
   "source": [
    "---"
   ]
  },
  {
   "cell_type": "code",
   "execution_count": 10,
   "metadata": {},
   "outputs": [],
   "source": [
    "data_path = \"RC_2011-07\"\n",
    "executor_memory = \"3g\"\n",
    "data_size = 4000000"
   ]
  },
  {
   "cell_type": "code",
   "execution_count": 11,
   "metadata": {},
   "outputs": [
    {
     "name": "stderr",
     "output_type": "stream",
     "text": [
      "                                                                                \r"
     ]
    },
    {
     "name": "stdout",
     "output_type": "stream",
     "text": [
      "Elapsed time: 896.0941910743713s\n",
      "Results:  [('positive', 1665944), ('neutral', 1334207), ('negative', 999849)]\n"
     ]
    }
   ],
   "source": [
    "# New API\n",
    "spark_session = SparkSession\\\n",
    "    .builder\\\n",
    "    .master(\"spark://master:7077\") \\\n",
    "    .appName(\"haodong_zhao_comment_classification_horizontal_strong_worker1\")\\\n",
    "    .config(\"spark.dynamicAllocation.enabled\", True)\\\n",
    "    .config(\"spark.dynamicAllocation.shuffleTracking.enabled\", True)\\\n",
    "    .config(\"spark.shuffle.service.enabled\", False)\\\n",
    "    .config(\"spark.dynamicAllocation.executorIdleTimeout\", \"300s\")\\\n",
    "    .config(\"spark.executor.memory\", executor_memory)\\\n",
    "    .config(\"spark.executor.cores\", 2)\\\n",
    "    .config(\"spark.driver.port\", 9998)\\\n",
    "    .config(\"spark.blockManager.port\", 10005)\\\n",
    "    .getOrCreate()\n",
    "\n",
    "# Old API (RDD)\n",
    "spark_context = spark_session.sparkContext\n",
    "\n",
    "spark_context.setLogLevel(\"ERROR\")\n",
    "\n",
    "\n",
    "rc_lines = spark_context.textFile(\n",
    "    'hdfs://master:9000/dataset/' + data_path).cache()\n",
    "\n",
    "rc_lines = rdd_slice(rc_lines, 0, data_size-1)\n",
    "\n",
    "# Start Timing\n",
    "start = time.time()\n",
    "\n",
    "results = analyze_comments(classify_comments(preprocess(rc_lines))).collect()\n",
    "\n",
    "# End Timing\n",
    "end = time.time()\n",
    "elapsed = end - start\n",
    "\n",
    "print(\"Elapsed time: {}s\".format(elapsed))\n",
    "print(\"Results: \", results)\n",
    "spark_session.stop()"
   ]
  },
  {
   "cell_type": "markdown",
   "metadata": {},
   "source": [
    "---"
   ]
  }
 ],
 "metadata": {
  "interpreter": {
   "hash": "916dbcbb3f70747c44a77c7bcd40155683ae19c65e1c03b4aa3499c5328201f1"
  },
  "kernelspec": {
   "display_name": "Python 3.8.10 64-bit",
   "language": "python",
   "name": "python3"
  },
  "language_info": {
   "codemirror_mode": {
    "name": "ipython",
    "version": 3
   },
   "file_extension": ".py",
   "mimetype": "text/x-python",
   "name": "python",
   "nbconvert_exporter": "python",
   "pygments_lexer": "ipython3",
   "version": "3.8.10"
  },
  "orig_nbformat": 4
 },
 "nbformat": 4,
 "nbformat_minor": 2
}
