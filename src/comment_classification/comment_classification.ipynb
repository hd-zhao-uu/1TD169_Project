{
 "cells": [
  {
   "cell_type": "code",
   "execution_count": 1,
   "metadata": {},
   "outputs": [],
   "source": [
    "from pyspark.sql import SparkSession\n",
    "from operator import add\n",
    "import json\n",
    "from nltk.sentiment import SentimentIntensityAnalyzer"
   ]
  },
  {
   "cell_type": "code",
   "execution_count": 2,
   "metadata": {},
   "outputs": [
    {
     "name": "stderr",
     "output_type": "stream",
     "text": [
      "Using Spark's default log4j profile: org/apache/spark/log4j-defaults.properties\n",
      "Setting default log level to \"WARN\".\n",
      "To adjust logging level use sc.setLogLevel(newLevel). For SparkR, use setLogLevel(newLevel).\n",
      "22/03/16 14:38:57 WARN NativeCodeLoader: Unable to load native-hadoop library for your platform... using builtin-java classes where applicable\n",
      "22/03/16 14:38:59 WARN ExecutorAllocationManager: Dynamic allocation without a shuffle service is an experimental feature.\n"
     ]
    }
   ],
   "source": [
    "# New API\n",
    "spark_session = SparkSession\\\n",
    "        .builder\\\n",
    "        .master(\"spark://master:7077\") \\\n",
    "        .appName(\"haodong_zhao_comment_classification_test\")\\\n",
    "        .config(\"spark.dynamicAllocation.enabled\", True)\\\n",
    "        .config(\"spark.dynamicAllocation.shuffleTracking.enabled\",True)\\\n",
    "        .config(\"spark.shuffle.service.enabled\", False)\\\n",
    "        .config(\"spark.dynamicAllocation.executorIdleTimeout\",\"300s\")\\\n",
    "        .config(\"spark.executor.cores\", 2)\\\n",
    "        .config(\"spark.executor.memory\", \"3g\")\\\n",
    "        .config(\"spark.driver.port\", 9998)\\\n",
    "        .config(\"spark.blockManager.port\", 10005)\\\n",
    "        .getOrCreate()\n",
    "\n",
    "# Old API (RDD)\n",
    "spark_context = spark_session.sparkContext\n",
    "\n",
    "spark_context.setLogLevel(\"WARN\")"
   ]
  },
  {
   "cell_type": "code",
   "execution_count": 3,
   "metadata": {},
   "outputs": [],
   "source": [
    "rc_lines = spark_context.textFile('hdfs://master:9000/dataset/RC_2011-07')"
   ]
  },
  {
   "cell_type": "code",
   "execution_count": 4,
   "metadata": {},
   "outputs": [
    {
     "name": "stderr",
     "output_type": "stream",
     "text": [
      "[Stage 0:=======================================================> (44 + 1) / 45]\r"
     ]
    },
    {
     "name": "stdout",
     "output_type": "stream",
     "text": [
      "10557466\n"
     ]
    },
    {
     "name": "stderr",
     "output_type": "stream",
     "text": [
      "                                                                                \r"
     ]
    }
   ],
   "source": [
    "rc_num = rc_lines.count()\n",
    "print(rc_num)"
   ]
  },
  {
   "cell_type": "code",
   "execution_count": 5,
   "metadata": {},
   "outputs": [
    {
     "data": {
      "text/plain": [
       "['{\"distinguished\":null,\"downs\":0,\"created_utc\":\"1309478400\",\"controversiality\":0,\"edited\":false,\"gilded\":0,\"author_flair_css_class\":\"mordekaiser\",\"id\":\"c22x4aq\",\"author\":\"adomorn\",\"retrieved_on\":1427302516,\"score_hidden\":false,\"subreddit_id\":\"t5_2rfxx\",\"score\":1,\"name\":\"t1_c22x4aq\",\"author_flair_text\":\"[adomorn] (NA)\",\"link_id\":\"t3_id1nc\",\"archived\":true,\"ups\":1,\"parent_id\":\"t3_id1nc\",\"subreddit\":\"leagueoflegends\",\"body\":\"Good lord.  Yes.\"}',\n",
       " '{\"distinguished\":null,\"created_utc\":\"1309478401\",\"downs\":0,\"controversiality\":0,\"gilded\":0,\"edited\":false,\"author\":\"[deleted]\",\"id\":\"c22x4at\",\"author_flair_css_class\":null,\"retrieved_on\":1427302516,\"score_hidden\":false,\"score\":-3,\"subreddit_id\":\"t5_2qwxl\",\"author_flair_text\":null,\"archived\":true,\"link_id\":\"t3_idpys\",\"name\":\"t1_c22x4at\",\"ups\":-3,\"parent_id\":\"t1_c22wz9g\",\"body\":\"I don\\'t know about that...\",\"subreddit\":\"runescape\"}',\n",
       " '{\"edited\":false,\"gilded\":0,\"author\":\"matts2\",\"author_flair_css_class\":null,\"id\":\"c22x4au\",\"retrieved_on\":1427302516,\"distinguished\":null,\"created_utc\":\"1309478400\",\"downs\":0,\"controversiality\":0,\"ups\":2,\"parent_id\":\"t3_idp2x\",\"body\":\"Explain something about Israel in simple terms? \\\\n\\\\nNo.\\\\n\\\\n\",\"subreddit\":\"Israel\",\"score_hidden\":false,\"score\":2,\"subreddit_id\":\"t5_2qhvo\",\"link_id\":\"t3_idp2x\",\"author_flair_text\":null,\"archived\":true,\"name\":\"t1_c22x4au\"}',\n",
       " '{\"subreddit_id\":\"t5_2rz8w\",\"score\":1,\"name\":\"t1_c22x4av\",\"author_flair_text\":null,\"archived\":true,\"link_id\":\"t3_idm2z\",\"score_hidden\":false,\"subreddit\":\"loseit\",\"body\":\"I would add that the \\'more exercise\\' part shouldn\\'t be more squats. Instead, do some cardio that requires all the muscles to work. Swimming is great to just get the muscles some air. Running, kayaking, jumping jacks, ect. Nothing that is going to be too harsh on the quads. \\\\n\\\\nWhen the muscles get sore, it is an easy excuse to \\'rest.\\' However exercise is the better option and actually helps the soreness go away faster. \",\"ups\":1,\"parent_id\":\"t1_c22wqky\",\"controversiality\":0,\"distinguished\":null,\"downs\":0,\"created_utc\":\"1309478400\",\"retrieved_on\":1427302516,\"edited\":false,\"gilded\":0,\"author_flair_css_class\":null,\"id\":\"c22x4av\",\"author\":\"sexlexia_survivor\"}',\n",
       " '{\"author\":\"misterkrad\",\"id\":\"c22x4aw\",\"author_flair_css_class\":null,\"edited\":false,\"gilded\":0,\"retrieved_on\":1427302516,\"created_utc\":\"1309478402\",\"downs\":0,\"distinguished\":null,\"controversiality\":0,\"parent_id\":\"t3_icpkw\",\"ups\":1,\"body\":\"care to explain #4 ? is it a dead end? no longer actively developed? \",\"subreddit\":\"PHP\",\"score_hidden\":false,\"author_flair_text\":null,\"archived\":true,\"link_id\":\"t3_icpkw\",\"name\":\"t1_c22x4aw\",\"score\":1,\"subreddit_id\":\"t5_2qh38\"}']"
      ]
     },
     "execution_count": 5,
     "metadata": {},
     "output_type": "execute_result"
    }
   ],
   "source": [
    "rc_lines.take(5)"
   ]
  },
  {
   "cell_type": "markdown",
   "metadata": {},
   "source": [
    "# Preprocessing"
   ]
  },
  {
   "cell_type": "code",
   "execution_count": 7,
   "metadata": {},
   "outputs": [],
   "source": [
    "def preprocess(rdd):\n",
    "    rdd = rdd.map(lambda line: json.loads(line))\\\n",
    "             .map(lambda line: line['body']) \\\n",
    "             .map(lambda line: line.strip()) \n",
    "    return rdd"
   ]
  },
  {
   "cell_type": "code",
   "execution_count": 8,
   "metadata": {},
   "outputs": [],
   "source": [
    "rc_lines = preprocess(rc_lines)"
   ]
  },
  {
   "cell_type": "code",
   "execution_count": 9,
   "metadata": {},
   "outputs": [
    {
     "data": {
      "text/plain": [
       "['Good lord.  Yes.',\n",
       " \"I don't know about that...\",\n",
       " 'Explain something about Israel in simple terms? \\n\\nNo.',\n",
       " \"I would add that the 'more exercise' part shouldn't be more squats. Instead, do some cardio that requires all the muscles to work. Swimming is great to just get the muscles some air. Running, kayaking, jumping jacks, ect. Nothing that is going to be too harsh on the quads. \\n\\nWhen the muscles get sore, it is an easy excuse to 'rest.' However exercise is the better option and actually helps the soreness go away faster.\",\n",
       " 'care to explain #4 ? is it a dead end? no longer actively developed?']"
      ]
     },
     "execution_count": 9,
     "metadata": {},
     "output_type": "execute_result"
    }
   ],
   "source": [
    "rc_lines.take(5)"
   ]
  },
  {
   "cell_type": "markdown",
   "metadata": {},
   "source": [
    "# Classify comments"
   ]
  },
  {
   "cell_type": "code",
   "execution_count": 10,
   "metadata": {},
   "outputs": [],
   "source": [
    "def classify_comments(rdd):\n",
    "    sia = SentimentIntensityAnalyzer()\n",
    "    \n",
    "    def _classify(comment):\n",
    "        scores = sia.polarity_scores(comment)\n",
    "        compound = scores['compound']\n",
    "        if compound >= 0.05:\n",
    "            return 'positive'\n",
    "        elif compound <= -0.05:\n",
    "            return 'negative'\n",
    "        else:\n",
    "            return 'neutral'\n",
    "    \n",
    "    m_rdd = rdd.map(lambda line: (line, _classify(line)))\n",
    "    return m_rdd"
   ]
  },
  {
   "cell_type": "code",
   "execution_count": 11,
   "metadata": {},
   "outputs": [],
   "source": [
    "classified = classify_comments(rc_lines)"
   ]
  },
  {
   "cell_type": "code",
   "execution_count": 12,
   "metadata": {},
   "outputs": [
    {
     "data": {
      "text/plain": [
       "[('Good lord.  Yes.', 'positive'),\n",
       " (\"I don't know about that...\", 'neutral'),\n",
       " ('Explain something about Israel in simple terms? \\n\\nNo.', 'negative'),\n",
       " (\"I would add that the 'more exercise' part shouldn't be more squats. Instead, do some cardio that requires all the muscles to work. Swimming is great to just get the muscles some air. Running, kayaking, jumping jacks, ect. Nothing that is going to be too harsh on the quads. \\n\\nWhen the muscles get sore, it is an easy excuse to 'rest.' However exercise is the better option and actually helps the soreness go away faster.\",\n",
       "  'positive'),\n",
       " ('care to explain #4 ? is it a dead end? no longer actively developed?',\n",
       "  'negative')]"
      ]
     },
     "execution_count": 12,
     "metadata": {},
     "output_type": "execute_result"
    }
   ],
   "source": [
    "classified.take(5)"
   ]
  },
  {
   "cell_type": "code",
   "execution_count": 13,
   "metadata": {},
   "outputs": [],
   "source": [
    "def analyze_comments(rdd):\n",
    "    rdd = rdd.map(lambda pair: pair[1]) \\\n",
    "             .map(lambda k: (k, 1)) \\\n",
    "             .reduceByKey(lambda v1, v2 : v1+v2)\\\n",
    "             .map(lambda kv: (kv[1], kv[0])) \\\n",
    "             .sortByKey(False)\\\n",
    "             .map(lambda vk: (vk[1], vk[0]))\n",
    "    return rdd"
   ]
  },
  {
   "cell_type": "code",
   "execution_count": 14,
   "metadata": {},
   "outputs": [
    {
     "name": "stderr",
     "output_type": "stream",
     "text": [
      "                                                                                \r"
     ]
    }
   ],
   "source": [
    "results = analyze_comments(classified)"
   ]
  },
  {
   "cell_type": "code",
   "execution_count": 15,
   "metadata": {},
   "outputs": [
    {
     "data": {
      "text/plain": [
       "[('positive', 4452504), ('neutral', 3392970), ('negative', 2711992)]"
      ]
     },
     "execution_count": 15,
     "metadata": {},
     "output_type": "execute_result"
    }
   ],
   "source": [
    "results.collect()"
   ]
  },
  {
   "cell_type": "code",
   "execution_count": 16,
   "metadata": {},
   "outputs": [],
   "source": [
    "spark_session.stop()"
   ]
  }
 ],
 "metadata": {
  "interpreter": {
   "hash": "916dbcbb3f70747c44a77c7bcd40155683ae19c65e1c03b4aa3499c5328201f1"
  },
  "kernelspec": {
   "display_name": "Python 3.8.10 64-bit",
   "language": "python",
   "name": "python3"
  },
  "language_info": {
   "codemirror_mode": {
    "name": "ipython",
    "version": 3
   },
   "file_extension": ".py",
   "mimetype": "text/x-python",
   "name": "python",
   "nbconvert_exporter": "python",
   "pygments_lexer": "ipython3",
   "version": "3.8.10"
  },
  "orig_nbformat": 4
 },
 "nbformat": 4,
 "nbformat_minor": 2
}
