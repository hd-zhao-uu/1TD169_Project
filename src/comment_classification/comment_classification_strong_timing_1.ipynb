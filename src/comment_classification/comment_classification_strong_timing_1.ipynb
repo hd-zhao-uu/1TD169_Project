{
 "cells": [
  {
   "cell_type": "markdown",
   "metadata": {},
   "source": [
    "# Strong Scaling"
   ]
  },
  {
   "cell_type": "code",
   "execution_count": 1,
   "metadata": {},
   "outputs": [],
   "source": [
    "import json\n",
    "import time\n",
    "\n",
    "from pyspark.sql import SparkSession\n",
    "from nltk.sentiment import SentimentIntensityAnalyzer\n"
   ]
  },
  {
   "cell_type": "code",
   "execution_count": 2,
   "metadata": {},
   "outputs": [],
   "source": [
    "def preprocess(rdd):\n",
    "    rdd = rdd.map(lambda line: json.loads(line))\\\n",
    "             .map(lambda line: line['body']) \\\n",
    "             .map(lambda line: line.strip())\n",
    "    return rdd\n",
    "\n",
    "\n",
    "def classify_comments(rdd):\n",
    "    sia = SentimentIntensityAnalyzer()\n",
    "\n",
    "    def _classify(comment):\n",
    "        scores = sia.polarity_scores(comment)\n",
    "        compound = scores['compound']\n",
    "        if compound >= 0.05:\n",
    "            return 'positive'\n",
    "        elif compound <= -0.05:\n",
    "            return 'negative'\n",
    "        else:\n",
    "            return 'neutral'\n",
    "\n",
    "    m_rdd = rdd.map(lambda line: (line, _classify(line)))\n",
    "    return m_rdd\n",
    "\n",
    "\n",
    "def analyze_comments(rdd):\n",
    "    rdd = rdd.map(lambda pair: pair[1]) \\\n",
    "             .map(lambda k: (k, 1)) \\\n",
    "             .reduceByKey(lambda v1, v2: v1+v2)\\\n",
    "             .map(lambda kv: (kv[1], kv[0])) \\\n",
    "             .sortByKey(False)\\\n",
    "             .map(lambda vk: (vk[1], vk[0]))\n",
    "    return rdd\n"
   ]
  },
  {
   "cell_type": "code",
   "execution_count": 3,
   "metadata": {},
   "outputs": [],
   "source": [
    "data_path = \"RC_2011-07\"\n",
    "executor_memory = \"2g\""
   ]
  },
  {
   "cell_type": "markdown",
   "metadata": {},
   "source": [
    "---"
   ]
  },
  {
   "cell_type": "code",
   "execution_count": 4,
   "metadata": {},
   "outputs": [],
   "source": [
    "# specify the number of the cores\n",
    "max_cores = 1"
   ]
  },
  {
   "cell_type": "code",
   "execution_count": 5,
   "metadata": {},
   "outputs": [
    {
     "name": "stderr",
     "output_type": "stream",
     "text": [
      "Using Spark's default log4j profile: org/apache/spark/log4j-defaults.properties\n",
      "Setting default log level to \"WARN\".\n",
      "To adjust logging level use sc.setLogLevel(newLevel). For SparkR, use setLogLevel(newLevel).\n",
      "22/03/17 17:21:24 WARN NativeCodeLoader: Unable to load native-hadoop library for your platform... using builtin-java classes where applicable\n",
      "22/03/17 17:21:26 WARN ExecutorAllocationManager: Dynamic allocation without a shuffle service is an experimental feature.\n"
     ]
    }
   ],
   "source": [
    "# New API\n",
    "spark_session = SparkSession\\\n",
    "    .builder\\\n",
    "    .master(\"spark://master:7077\") \\\n",
    "    .appName(\"haodong_zhao_comment_classification_timing\")\\\n",
    "    .config(\"spark.dynamicAllocation.enabled\", True)\\\n",
    "    .config(\"spark.dynamicAllocation.shuffleTracking.enabled\", True)\\\n",
    "    .config(\"spark.shuffle.service.enabled\", False)\\\n",
    "    .config(\"spark.dynamicAllocation.executorIdleTimeout\", \"300s\")\\\n",
    "    .config(\"spark.cores.max\", max_cores) \\\n",
    "    .config(\"spark.executor.memory\", executor_memory)\\\n",
    "    .config(\"spark.driver.port\", 9998)\\\n",
    "    .config(\"spark.blockManager.port\", 10005)\\\n",
    "    .getOrCreate()\n",
    "\n",
    "# Old API (RDD)\n",
    "spark_context = spark_session.sparkContext\n",
    "\n",
    "spark_context.setLogLevel(\"ERROR\")\n",
    "\n",
    "\n",
    "rc_lines = spark_context.textFile(\n",
    "    'hdfs://master:9000/dataset/' + data_path).cache()\n"
   ]
  },
  {
   "cell_type": "code",
   "execution_count": 6,
   "metadata": {},
   "outputs": [
    {
     "name": "stderr",
     "output_type": "stream",
     "text": [
      "                                                                                \r"
     ]
    }
   ],
   "source": [
    "# Start Timing\n",
    "start = time.time()\n",
    "\n",
    "results = analyze_comments(classify_comments(preprocess(rc_lines))).collect()\n",
    "\n",
    "# End Timing\n",
    "end = time.time()\n",
    "elapsed = end - start"
   ]
  },
  {
   "cell_type": "code",
   "execution_count": 7,
   "metadata": {},
   "outputs": [
    {
     "name": "stdout",
     "output_type": "stream",
     "text": [
      "Elapsed time: 4521.225337266922s\n",
      "Results:  [('positive', 4386834), ('neutral', 3517926), ('negative', 2652706)]\n"
     ]
    }
   ],
   "source": [
    "print(\"Elapsed time: {}s\".format(elapsed))\n",
    "print(\"Results: \", results)"
   ]
  },
  {
   "cell_type": "code",
   "execution_count": 8,
   "metadata": {},
   "outputs": [],
   "source": [
    "spark_session.stop()\n"
   ]
  },
  {
   "cell_type": "markdown",
   "metadata": {},
   "source": [
    "---"
   ]
  },
  {
   "cell_type": "code",
   "execution_count": 9,
   "metadata": {},
   "outputs": [],
   "source": [
    "# specify the number of the cores\n",
    "max_cores = 2"
   ]
  },
  {
   "cell_type": "code",
   "execution_count": 10,
   "metadata": {},
   "outputs": [],
   "source": [
    "# New API\n",
    "spark_session = SparkSession\\\n",
    "    .builder\\\n",
    "    .master(\"spark://master:7077\") \\\n",
    "    .appName(\"haodong_zhao_comment_classification_timing\")\\\n",
    "    .config(\"spark.dynamicAllocation.enabled\", True)\\\n",
    "    .config(\"spark.dynamicAllocation.shuffleTracking.enabled\", True)\\\n",
    "    .config(\"spark.shuffle.service.enabled\", False)\\\n",
    "    .config(\"spark.dynamicAllocation.executorIdleTimeout\", \"300s\")\\\n",
    "    .config(\"spark.cores.max\", max_cores) \\\n",
    "    .config(\"spark.executor.memory\", executor_memory)\\\n",
    "    .config(\"spark.driver.port\", 9998)\\\n",
    "    .config(\"spark.blockManager.port\", 10005)\\\n",
    "    .getOrCreate()\n",
    "\n",
    "# Old API (RDD)\n",
    "spark_context = spark_session.sparkContext\n",
    "\n",
    "spark_context.setLogLevel(\"ERROR\")\n",
    "\n",
    "rc_lines = spark_context.textFile(\n",
    "    'hdfs://master:9000/dataset/' + data_path).cache()\n"
   ]
  },
  {
   "cell_type": "code",
   "execution_count": 11,
   "metadata": {},
   "outputs": [
    {
     "name": "stderr",
     "output_type": "stream",
     "text": [
      "                                                                                \r"
     ]
    }
   ],
   "source": [
    "# Start Timing\n",
    "start = time.time()\n",
    "\n",
    "results = analyze_comments(classify_comments(preprocess(rc_lines))).collect()\n",
    "\n",
    "# End Timing\n",
    "end = time.time()\n",
    "elapsed = end - start"
   ]
  },
  {
   "cell_type": "code",
   "execution_count": 12,
   "metadata": {},
   "outputs": [
    {
     "name": "stdout",
     "output_type": "stream",
     "text": [
      "Elapsed time: 2321.3200421333313s\n",
      "Results:  [('positive', 4386834), ('neutral', 3517926), ('negative', 2652706)]\n"
     ]
    }
   ],
   "source": [
    "print(\"Elapsed time: {}s\".format(elapsed))\n",
    "print(\"Results: \", results)\n"
   ]
  },
  {
   "cell_type": "code",
   "execution_count": 13,
   "metadata": {},
   "outputs": [],
   "source": [
    "spark_session.stop()\n"
   ]
  },
  {
   "cell_type": "markdown",
   "metadata": {},
   "source": [
    "---"
   ]
  },
  {
   "cell_type": "code",
   "execution_count": 14,
   "metadata": {},
   "outputs": [],
   "source": [
    "# specify the number of the cores\n",
    "max_cores = 4\n"
   ]
  },
  {
   "cell_type": "code",
   "execution_count": 15,
   "metadata": {},
   "outputs": [],
   "source": [
    "# New API\n",
    "spark_session = SparkSession\\\n",
    "    .builder\\\n",
    "    .master(\"spark://master:7077\") \\\n",
    "    .appName(\"haodong_zhao_comment_classification_timing\")\\\n",
    "    .config(\"spark.dynamicAllocation.enabled\", True)\\\n",
    "    .config(\"spark.dynamicAllocation.shuffleTracking.enabled\", True)\\\n",
    "    .config(\"spark.shuffle.service.enabled\", False)\\\n",
    "    .config(\"spark.dynamicAllocation.executorIdleTimeout\", \"300s\")\\\n",
    "    .config(\"spark.cores.max\", max_cores) \\\n",
    "    .config(\"spark.executor.memory\", executor_memory)\\\n",
    "    .config(\"spark.driver.port\", 9998)\\\n",
    "    .config(\"spark.blockManager.port\", 10005)\\\n",
    "    .getOrCreate()\n",
    "\n",
    "# Old API (RDD)\n",
    "spark_context = spark_session.sparkContext\n",
    "\n",
    "spark_context.setLogLevel(\"ERROR\")\n",
    "\n",
    "\n",
    "rc_lines = spark_context.textFile(\n",
    "    'hdfs://master:9000/dataset/' + data_path).cache()\n",
    "\n"
   ]
  },
  {
   "cell_type": "code",
   "execution_count": 16,
   "metadata": {},
   "outputs": [
    {
     "name": "stderr",
     "output_type": "stream",
     "text": [
      "                                                                                \r"
     ]
    }
   ],
   "source": [
    "# Start Timing\n",
    "start = time.time()\n",
    "\n",
    "results = analyze_comments(classify_comments(preprocess(rc_lines))).collect()\n",
    "\n",
    "# End Timing\n",
    "end = time.time()\n",
    "elapsed = end - start"
   ]
  },
  {
   "cell_type": "code",
   "execution_count": 17,
   "metadata": {},
   "outputs": [
    {
     "name": "stdout",
     "output_type": "stream",
     "text": [
      "Elapsed time: 1211.1807935237885s\n",
      "Results:  [('positive', 4386834), ('neutral', 3517926), ('negative', 2652706)]\n"
     ]
    }
   ],
   "source": [
    "print(\"Elapsed time: {}s\".format(elapsed))\n",
    "print(\"Results: \", results)"
   ]
  },
  {
   "cell_type": "code",
   "execution_count": 18,
   "metadata": {},
   "outputs": [],
   "source": [
    "spark_session.stop()"
   ]
  },
  {
   "cell_type": "markdown",
   "metadata": {},
   "source": [
    "---"
   ]
  },
  {
   "cell_type": "code",
   "execution_count": 19,
   "metadata": {},
   "outputs": [],
   "source": [
    "# specify the number of the cores\n",
    "max_cores = 8\n"
   ]
  },
  {
   "cell_type": "code",
   "execution_count": 20,
   "metadata": {},
   "outputs": [],
   "source": [
    "# New API\n",
    "spark_session = SparkSession\\\n",
    "    .builder\\\n",
    "    .master(\"spark://master:7077\") \\\n",
    "    .appName(\"haodong_zhao_comment_classification_timing\")\\\n",
    "    .config(\"spark.dynamicAllocation.enabled\", True)\\\n",
    "    .config(\"spark.dynamicAllocation.shuffleTracking.enabled\", True)\\\n",
    "    .config(\"spark.shuffle.service.enabled\", False)\\\n",
    "    .config(\"spark.dynamicAllocation.executorIdleTimeout\", \"300s\")\\\n",
    "    .config(\"spark.cores.max\", max_cores) \\\n",
    "    .config(\"spark.executor.memory\", executor_memory)\\\n",
    "    .config(\"spark.driver.port\", 9998)\\\n",
    "    .config(\"spark.blockManager.port\", 10005)\\\n",
    "    .getOrCreate()\n",
    "\n",
    "# Old API (RDD)\n",
    "spark_context = spark_session.sparkContext\n",
    "\n",
    "spark_context.setLogLevel(\"ERROR\")\n",
    "\n",
    "\n",
    "rc_lines = spark_context.textFile(\n",
    "    'hdfs://master:9000/dataset/' + data_path).cache()"
   ]
  },
  {
   "cell_type": "code",
   "execution_count": 21,
   "metadata": {},
   "outputs": [
    {
     "name": "stderr",
     "output_type": "stream",
     "text": [
      "                                                                                \r"
     ]
    }
   ],
   "source": [
    "# Start Timing\n",
    "start = time.time()\n",
    "\n",
    "results = analyze_comments(classify_comments(preprocess(rc_lines))).collect()\n",
    "\n",
    "# End Timing\n",
    "end = time.time()\n",
    "elapsed = end - start"
   ]
  },
  {
   "cell_type": "code",
   "execution_count": 22,
   "metadata": {},
   "outputs": [
    {
     "name": "stdout",
     "output_type": "stream",
     "text": [
      "Elapsed time: 632.7771925926208s\n",
      "Results:  [('positive', 4386834), ('neutral', 3517926), ('negative', 2652706)]\n"
     ]
    }
   ],
   "source": [
    "print(\"Elapsed time: {}s\".format(elapsed))\n",
    "print(\"Results: \", results)"
   ]
  },
  {
   "cell_type": "code",
   "execution_count": 23,
   "metadata": {},
   "outputs": [],
   "source": [
    "spark_session.stop()"
   ]
  },
  {
   "cell_type": "markdown",
   "metadata": {},
   "source": [
    "---"
   ]
  }
 ],
 "metadata": {
  "interpreter": {
   "hash": "916dbcbb3f70747c44a77c7bcd40155683ae19c65e1c03b4aa3499c5328201f1"
  },
  "kernelspec": {
   "display_name": "Python 3.8.10 64-bit",
   "language": "python",
   "name": "python3"
  },
  "language_info": {
   "codemirror_mode": {
    "name": "ipython",
    "version": 3
   },
   "file_extension": ".py",
   "mimetype": "text/x-python",
   "name": "python",
   "nbconvert_exporter": "python",
   "pygments_lexer": "ipython3",
   "version": "3.8.10"
  },
  "orig_nbformat": 4
 },
 "nbformat": 4,
 "nbformat_minor": 2
}
