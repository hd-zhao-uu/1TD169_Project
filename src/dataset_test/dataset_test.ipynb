{
 "cells": [
  {
   "cell_type": "code",
   "execution_count": 1,
   "metadata": {},
   "outputs": [],
   "source": [
    "from pyspark.sql import SparkSession\n",
    "from operator import add\n",
    "import re\n",
    "import json\n",
    "import time "
   ]
  },
  {
   "cell_type": "code",
   "execution_count": 2,
   "metadata": {},
   "outputs": [
    {
     "name": "stderr",
     "output_type": "stream",
     "text": [
      "Using Spark's default log4j profile: org/apache/spark/log4j-defaults.properties\n",
      "Setting default log level to \"WARN\".\n",
      "To adjust logging level use sc.setLogLevel(newLevel). For SparkR, use setLogLevel(newLevel).\n",
      "22/03/16 22:11:08 WARN NativeCodeLoader: Unable to load native-hadoop library for your platform... using builtin-java classes where applicable\n",
      "22/03/16 22:11:11 WARN ExecutorAllocationManager: Dynamic allocation without a shuffle service is an experimental feature.\n"
     ]
    }
   ],
   "source": [
    "# New API\n",
    "spark_session = SparkSession\\\n",
    "        .builder\\\n",
    "        .master(\"spark://master:7077\") \\\n",
    "        .appName(\"dataset_test\")\\\n",
    "        .config(\"spark.dynamicAllocation.enabled\", True)\\\n",
    "        .config(\"spark.dynamicAllocation.shuffleTracking.enabled\",True)\\\n",
    "        .config(\"spark.shuffle.service.enabled\", False)\\\n",
    "        .config(\"spark.dynamicAllocation.executorIdleTimeout\",\"300s\")\\\n",
    "        .config(\"spark.executor.cores\",2)\\\n",
    "        .config(\"spark.driver.port\",9998)\\\n",
    "        .config(\"spark.blockManager.port\",10005)\\\n",
    "        .getOrCreate()\n",
    "\n",
    "# Old API (RDD)\n",
    "spark_context = spark_session.sparkContext\n",
    "\n",
    "spark_context.setLogLevel(\"WARN\")"
   ]
  },
  {
   "cell_type": "code",
   "execution_count": 3,
   "metadata": {},
   "outputs": [
    {
     "name": "stderr",
     "output_type": "stream",
     "text": [
      "[Stage 0:======================================================>  (43 + 2) / 45]\r"
     ]
    },
    {
     "name": "stdout",
     "output_type": "stream",
     "text": [
      "10557466\n"
     ]
    },
    {
     "name": "stderr",
     "output_type": "stream",
     "text": [
      "                                                                                \r"
     ]
    }
   ],
   "source": [
    "rc_lines = spark_context.textFile('hdfs://master:9000/dataset/RC_2011-07')\n",
    "\n",
    "rc_num = rc_lines.count()\n",
    "print(rc_num)"
   ]
  },
  {
   "cell_type": "code",
   "execution_count": 4,
   "metadata": {},
   "outputs": [
    {
     "data": {
      "text/plain": [
       "['{\"distinguished\":null,\"downs\":0,\"created_utc\":\"1309478400\",\"controversiality\":0,\"edited\":false,\"gilded\":0,\"author_flair_css_class\":\"mordekaiser\",\"id\":\"c22x4aq\",\"author\":\"adomorn\",\"retrieved_on\":1427302516,\"score_hidden\":false,\"subreddit_id\":\"t5_2rfxx\",\"score\":1,\"name\":\"t1_c22x4aq\",\"author_flair_text\":\"[adomorn] (NA)\",\"link_id\":\"t3_id1nc\",\"archived\":true,\"ups\":1,\"parent_id\":\"t3_id1nc\",\"subreddit\":\"leagueoflegends\",\"body\":\"Good lord.  Yes.\"}',\n",
       " '{\"distinguished\":null,\"created_utc\":\"1309478401\",\"downs\":0,\"controversiality\":0,\"gilded\":0,\"edited\":false,\"author\":\"[deleted]\",\"id\":\"c22x4at\",\"author_flair_css_class\":null,\"retrieved_on\":1427302516,\"score_hidden\":false,\"score\":-3,\"subreddit_id\":\"t5_2qwxl\",\"author_flair_text\":null,\"archived\":true,\"link_id\":\"t3_idpys\",\"name\":\"t1_c22x4at\",\"ups\":-3,\"parent_id\":\"t1_c22wz9g\",\"body\":\"I don\\'t know about that...\",\"subreddit\":\"runescape\"}',\n",
       " '{\"edited\":false,\"gilded\":0,\"author\":\"matts2\",\"author_flair_css_class\":null,\"id\":\"c22x4au\",\"retrieved_on\":1427302516,\"distinguished\":null,\"created_utc\":\"1309478400\",\"downs\":0,\"controversiality\":0,\"ups\":2,\"parent_id\":\"t3_idp2x\",\"body\":\"Explain something about Israel in simple terms? \\\\n\\\\nNo.\\\\n\\\\n\",\"subreddit\":\"Israel\",\"score_hidden\":false,\"score\":2,\"subreddit_id\":\"t5_2qhvo\",\"link_id\":\"t3_idp2x\",\"author_flair_text\":null,\"archived\":true,\"name\":\"t1_c22x4au\"}',\n",
       " '{\"subreddit_id\":\"t5_2rz8w\",\"score\":1,\"name\":\"t1_c22x4av\",\"author_flair_text\":null,\"archived\":true,\"link_id\":\"t3_idm2z\",\"score_hidden\":false,\"subreddit\":\"loseit\",\"body\":\"I would add that the \\'more exercise\\' part shouldn\\'t be more squats. Instead, do some cardio that requires all the muscles to work. Swimming is great to just get the muscles some air. Running, kayaking, jumping jacks, ect. Nothing that is going to be too harsh on the quads. \\\\n\\\\nWhen the muscles get sore, it is an easy excuse to \\'rest.\\' However exercise is the better option and actually helps the soreness go away faster. \",\"ups\":1,\"parent_id\":\"t1_c22wqky\",\"controversiality\":0,\"distinguished\":null,\"downs\":0,\"created_utc\":\"1309478400\",\"retrieved_on\":1427302516,\"edited\":false,\"gilded\":0,\"author_flair_css_class\":null,\"id\":\"c22x4av\",\"author\":\"sexlexia_survivor\"}',\n",
       " '{\"author\":\"misterkrad\",\"id\":\"c22x4aw\",\"author_flair_css_class\":null,\"edited\":false,\"gilded\":0,\"retrieved_on\":1427302516,\"created_utc\":\"1309478402\",\"downs\":0,\"distinguished\":null,\"controversiality\":0,\"parent_id\":\"t3_icpkw\",\"ups\":1,\"body\":\"care to explain #4 ? is it a dead end? no longer actively developed? \",\"subreddit\":\"PHP\",\"score_hidden\":false,\"author_flair_text\":null,\"archived\":true,\"link_id\":\"t3_icpkw\",\"name\":\"t1_c22x4aw\",\"score\":1,\"subreddit_id\":\"t5_2qh38\"}']"
      ]
     },
     "execution_count": 4,
     "metadata": {},
     "output_type": "execute_result"
    }
   ],
   "source": [
    "rc_lines.take(5)"
   ]
  },
  {
   "cell_type": "code",
   "execution_count": 5,
   "metadata": {},
   "outputs": [
    {
     "name": "stderr",
     "output_type": "stream",
     "text": [
      "[Stage 2:=====================================================> (109 + 3) / 112]\r"
     ]
    },
    {
     "name": "stdout",
     "output_type": "stream",
     "text": [
      "26080276\n"
     ]
    },
    {
     "name": "stderr",
     "output_type": "stream",
     "text": [
      "                                                                                \r"
     ]
    }
   ],
   "source": [
    "rc_lines = spark_context.textFile('hdfs://master:9000/dataset/RC_2012-12')\n",
    "\n",
    "rc_num = rc_lines.count()\n",
    "print(rc_num)"
   ]
  },
  {
   "cell_type": "code",
   "execution_count": 6,
   "metadata": {},
   "outputs": [
    {
     "data": {
      "text/plain": [
       "['{\"edited\":false,\"score\":8,\"author_flair_text\":null,\"parent_id\":\"t1_c799b4b\",\"author\":\"cassander\",\"name\":\"t1_c79dblz\",\"author_flair_css_class\":null,\"ups\":8,\"controversiality\":0,\"retrieved_on\":1430545690,\"id\":\"c79dblz\",\"gilded\":0,\"created_utc\":\"1354320000\",\"body\":\"&gt;It\\'s the rich of today whose actions determine how big the slice of the pie is that everyone else has to share.\\\\n\\\\nthis is wrong.  wealth is not a zero sum game.\",\"subreddit\":\"NeutralPolitics\",\"distinguished\":null,\"score_hidden\":false,\"link_id\":\"t3_1427g3\",\"subreddit_id\":\"t5_2tk0i\",\"archived\":true,\"downs\":0}',\n",
       " '{\"downs\":0,\"archived\":true,\"distinguished\":null,\"score_hidden\":false,\"subreddit\":\"RandomActsOfGaming\",\"subreddit_id\":\"t5_2t5mo\",\"link_id\":\"t3_1416vj\",\"body\":\"273\",\"created_utc\":\"1354320000\",\"controversiality\":0,\"retrieved_on\":1430545690,\"ups\":1,\"gilded\":0,\"id\":\"c79dbm0\",\"author\":\"Whaun3\",\"author_flair_css_class\":null,\"name\":\"t1_c79dbm0\",\"parent_id\":\"t3_1416vj\",\"author_flair_text\":null,\"score\":1,\"edited\":false}',\n",
       " '{\"body\":\"Too late, the guy at the store said halo 4 was pretty cool for a 12 year old.  \",\"created_utc\":\"1354320000\",\"subreddit_id\":\"t5_2qh1i\",\"link_id\":\"t3_141t2i\",\"score_hidden\":false,\"distinguished\":null,\"subreddit\":\"AskReddit\",\"archived\":true,\"downs\":0,\"edited\":false,\"author_flair_text\":null,\"parent_id\":\"t1_c7961ck\",\"score\":1,\"author_flair_css_class\":null,\"name\":\"t1_c79dbm1\",\"author\":\"swingsetninja\",\"gilded\":0,\"id\":\"c79dbm1\",\"controversiality\":0,\"retrieved_on\":1430545690,\"ups\":1}',\n",
       " '{\"score\":1,\"author_flair_text\":null,\"parent_id\":\"t3_142ub5\",\"edited\":false,\"ups\":1,\"controversiality\":0,\"retrieved_on\":1430545690,\"id\":\"c79dbm2\",\"gilded\":0,\"author\":\"leoreddit12\",\"name\":\"t1_c79dbm2\",\"author_flair_css_class\":null,\"subreddit\":\"videos\",\"score_hidden\":false,\"distinguished\":null,\"link_id\":\"t3_142ub5\",\"subreddit_id\":\"t5_2qh1e\",\"created_utc\":\"1354320000\",\"body\":\"Enjoy the beauty of human voice, skills, and feats in videos.\",\"downs\":0,\"archived\":true}',\n",
       " '{\"downs\":0,\"archived\":true,\"link_id\":\"t3_142pyk\",\"subreddit_id\":\"t5_2r8cd\",\"subreddit\":\"Borderlands\",\"score_hidden\":false,\"distinguished\":null,\"created_utc\":\"1354320000\",\"body\":\"The thing with the invincibles is that they are ALWAYS level 50. From what I have noticed anyway. I could be wrong. So beating them before leveling up might be impossible...\",\"id\":\"c79dbm3\",\"gilded\":0,\"ups\":6,\"controversiality\":0,\"retrieved_on\":1430545690,\"name\":\"t1_c79dbm3\",\"author_flair_css_class\":null,\"author\":\"Spynjess\",\"score\":6,\"author_flair_text\":null,\"parent_id\":\"t3_142pyk\",\"edited\":false}']"
      ]
     },
     "execution_count": 6,
     "metadata": {},
     "output_type": "execute_result"
    }
   ],
   "source": [
    "rc_lines.take(5)"
   ]
  },
  {
   "cell_type": "code",
   "execution_count": 7,
   "metadata": {},
   "outputs": [],
   "source": [
    "def rdd_slice(rdd, start, end):\n",
    "    rdd = rdd.zipWithIndex()\\\n",
    "            .filter(lambda kv: kv[1] >= start and kv[1] <= end) \\\n",
    "            .map(lambda kv: kv[0])\n",
    "    return rdd     "
   ]
  },
  {
   "cell_type": "code",
   "execution_count": 8,
   "metadata": {},
   "outputs": [
    {
     "name": "stderr",
     "output_type": "stream",
     "text": [
      "                                                                                \r"
     ]
    },
    {
     "data": {
      "text/plain": [
       "['{\"edited\":false,\"score\":8,\"author_flair_text\":null,\"parent_id\":\"t1_c799b4b\",\"author\":\"cassander\",\"name\":\"t1_c79dblz\",\"author_flair_css_class\":null,\"ups\":8,\"controversiality\":0,\"retrieved_on\":1430545690,\"id\":\"c79dblz\",\"gilded\":0,\"created_utc\":\"1354320000\",\"body\":\"&gt;It\\'s the rich of today whose actions determine how big the slice of the pie is that everyone else has to share.\\\\n\\\\nthis is wrong.  wealth is not a zero sum game.\",\"subreddit\":\"NeutralPolitics\",\"distinguished\":null,\"score_hidden\":false,\"link_id\":\"t3_1427g3\",\"subreddit_id\":\"t5_2tk0i\",\"archived\":true,\"downs\":0}',\n",
       " '{\"downs\":0,\"archived\":true,\"distinguished\":null,\"score_hidden\":false,\"subreddit\":\"RandomActsOfGaming\",\"subreddit_id\":\"t5_2t5mo\",\"link_id\":\"t3_1416vj\",\"body\":\"273\",\"created_utc\":\"1354320000\",\"controversiality\":0,\"retrieved_on\":1430545690,\"ups\":1,\"gilded\":0,\"id\":\"c79dbm0\",\"author\":\"Whaun3\",\"author_flair_css_class\":null,\"name\":\"t1_c79dbm0\",\"parent_id\":\"t3_1416vj\",\"author_flair_text\":null,\"score\":1,\"edited\":false}',\n",
       " '{\"body\":\"Too late, the guy at the store said halo 4 was pretty cool for a 12 year old.  \",\"created_utc\":\"1354320000\",\"subreddit_id\":\"t5_2qh1i\",\"link_id\":\"t3_141t2i\",\"score_hidden\":false,\"distinguished\":null,\"subreddit\":\"AskReddit\",\"archived\":true,\"downs\":0,\"edited\":false,\"author_flair_text\":null,\"parent_id\":\"t1_c7961ck\",\"score\":1,\"author_flair_css_class\":null,\"name\":\"t1_c79dbm1\",\"author\":\"swingsetninja\",\"gilded\":0,\"id\":\"c79dbm1\",\"controversiality\":0,\"retrieved_on\":1430545690,\"ups\":1}',\n",
       " '{\"score\":1,\"author_flair_text\":null,\"parent_id\":\"t3_142ub5\",\"edited\":false,\"ups\":1,\"controversiality\":0,\"retrieved_on\":1430545690,\"id\":\"c79dbm2\",\"gilded\":0,\"author\":\"leoreddit12\",\"name\":\"t1_c79dbm2\",\"author_flair_css_class\":null,\"subreddit\":\"videos\",\"score_hidden\":false,\"distinguished\":null,\"link_id\":\"t3_142ub5\",\"subreddit_id\":\"t5_2qh1e\",\"created_utc\":\"1354320000\",\"body\":\"Enjoy the beauty of human voice, skills, and feats in videos.\",\"downs\":0,\"archived\":true}',\n",
       " '{\"downs\":0,\"archived\":true,\"link_id\":\"t3_142pyk\",\"subreddit_id\":\"t5_2r8cd\",\"subreddit\":\"Borderlands\",\"score_hidden\":false,\"distinguished\":null,\"created_utc\":\"1354320000\",\"body\":\"The thing with the invincibles is that they are ALWAYS level 50. From what I have noticed anyway. I could be wrong. So beating them before leveling up might be impossible...\",\"id\":\"c79dbm3\",\"gilded\":0,\"ups\":6,\"controversiality\":0,\"retrieved_on\":1430545690,\"name\":\"t1_c79dbm3\",\"author_flair_css_class\":null,\"author\":\"Spynjess\",\"score\":6,\"author_flair_text\":null,\"parent_id\":\"t3_142pyk\",\"edited\":false}',\n",
       " '{\"name\":\"t1_c79dbm4\",\"author_flair_css_class\":null,\"author\":\"aPersonOfInterest\",\"id\":\"c79dbm4\",\"gilded\":0,\"ups\":2,\"retrieved_on\":1430545690,\"controversiality\":0,\"edited\":false,\"score\":2,\"parent_id\":\"t3_142udk\",\"author_flair_text\":null,\"archived\":true,\"downs\":0,\"created_utc\":\"1354320000\",\"body\":\"Michonne\",\"link_id\":\"t3_142udk\",\"subreddit_id\":\"t5_2qh1i\",\"subreddit\":\"AskReddit\",\"score_hidden\":false,\"distinguished\":null}',\n",
       " '{\"author_flair_css_class\":null,\"name\":\"t1_c79dbm5\",\"author\":\"CrispyHummingBird\",\"gilded\":0,\"id\":\"c79dbm5\",\"retrieved_on\":1430545690,\"controversiality\":0,\"ups\":1,\"edited\":false,\"author_flair_text\":null,\"parent_id\":\"t1_c78wi9b\",\"score\":1,\"archived\":true,\"downs\":0,\"body\":\"\\\\\"I kind of like the idea\\\\\" --CrispyHummingBird 2012\\\\u00a9\",\"created_utc\":\"1354320000\",\"subreddit_id\":\"t5_2qh2p\",\"link_id\":\"t3_140rrp\",\"score_hidden\":false,\"distinguished\":null,\"subreddit\":\"atheism\"}',\n",
       " '{\"subreddit\":\"AskReddit\",\"score_hidden\":false,\"distinguished\":null,\"link_id\":\"t3_14121p\",\"subreddit_id\":\"t5_2qh1i\",\"created_utc\":\"1354320000\",\"body\":\"1 used to run a retail women\\'s dept ( I\\'m a man) and none of my (female) employees wanted to tell a customer that they didn\\'t know what size their boobs were.\\\\n2 my wife was convinced she was a 34c by VS. actually 36DD. :) but much avail from Vickie\\'s in that size.\",\"downs\":0,\"archived\":true,\"score\":1,\"author_flair_text\":null,\"parent_id\":\"t3_14121p\",\"edited\":false,\"ups\":1,\"controversiality\":0,\"retrieved_on\":1430545690,\"id\":\"c79dbm6\",\"gilded\":0,\"author\":\"Germanakzent\",\"name\":\"t1_c79dbm6\",\"author_flair_css_class\":null}',\n",
       " '{\"gilded\":0,\"id\":\"c79dbm7\",\"retrieved_on\":1430545690,\"controversiality\":0,\"ups\":2,\"author_flair_css_class\":null,\"name\":\"t1_c79dbm7\",\"author\":\"[deleted]\",\"author_flair_text\":null,\"parent_id\":\"t3_142fmi\",\"score\":2,\"edited\":false,\"downs\":0,\"archived\":true,\"subreddit_id\":\"t5_2sg6k\",\"link_id\":\"t3_142fmi\",\"distinguished\":null,\"score_hidden\":false,\"subreddit\":\"firstimpression\",\"body\":\"[deleted]\",\"created_utc\":\"1354320000\"}',\n",
       " '{\"body\":\"But the Indiana Jones class gets a feat that turns every roll into an automatic 20. Pretty similar to the Han Solo class.\",\"created_utc\":\"1354320000\",\"subreddit_id\":\"t5_2qwdo\",\"link_id\":\"t3_141f8w\",\"score_hidden\":false,\"distinguished\":null,\"subreddit\":\"DungeonsAndDragons\",\"archived\":true,\"downs\":0,\"edited\":false,\"author_flair_text\":null,\"parent_id\":\"t3_141f8w\",\"score\":1,\"author_flair_css_class\":null,\"name\":\"t1_c79dbm8\",\"author\":\"Saehrimnir\",\"gilded\":0,\"id\":\"c79dbm8\",\"controversiality\":0,\"retrieved_on\":1430545690,\"ups\":1}']"
      ]
     },
     "execution_count": 8,
     "metadata": {},
     "output_type": "execute_result"
    }
   ],
   "source": [
    "rc_lines = rc_lines.cache()\n",
    "rc_lines = rdd_slice(rc_lines, 0, 999999)\n",
    "\n",
    "rc_lines.take(10)"
   ]
  },
  {
   "cell_type": "code",
   "execution_count": 9,
   "metadata": {},
   "outputs": [
    {
     "name": "stderr",
     "output_type": "stream",
     "text": [
      "                                                                                \r"
     ]
    },
    {
     "data": {
      "text/plain": [
       "1000000"
      ]
     },
     "execution_count": 9,
     "metadata": {},
     "output_type": "execute_result"
    }
   ],
   "source": [
    "rc_lines.count()"
   ]
  },
  {
   "cell_type": "code",
   "execution_count": 10,
   "metadata": {},
   "outputs": [],
   "source": [
    "spark_session.stop()"
   ]
  }
 ],
 "metadata": {
  "interpreter": {
   "hash": "916dbcbb3f70747c44a77c7bcd40155683ae19c65e1c03b4aa3499c5328201f1"
  },
  "kernelspec": {
   "display_name": "Python 3.8.10 64-bit",
   "language": "python",
   "name": "python3"
  },
  "language_info": {
   "codemirror_mode": {
    "name": "ipython",
    "version": 3
   },
   "file_extension": ".py",
   "mimetype": "text/x-python",
   "name": "python",
   "nbconvert_exporter": "python",
   "pygments_lexer": "ipython3",
   "version": "3.8.10"
  },
  "orig_nbformat": 4
 },
 "nbformat": 4,
 "nbformat_minor": 2
}
