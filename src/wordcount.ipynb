{
 "cells": [
  {
   "cell_type": "code",
   "execution_count": 12,
   "metadata": {},
   "outputs": [],
   "source": [
    "from pyspark.sql import SparkSession\n",
    "from operator import add\n",
    "import re\n",
    "import json\n",
    "import time "
   ]
  },
  {
   "cell_type": "code",
   "execution_count": 13,
   "metadata": {},
   "outputs": [
    {
     "name": "stderr",
     "output_type": "stream",
     "text": [
      "22/03/14 20:38:45 WARN ExecutorAllocationManager: Dynamic allocation without a shuffle service is an experimental feature.\n"
     ]
    }
   ],
   "source": [
    "# New API\n",
    "spark_session = SparkSession\\\n",
    "        .builder\\\n",
    "        .master(\"spark://master:7077\") \\\n",
    "        .appName(\"haodong_zhao_wordcount_test\")\\\n",
    "        .config(\"spark.dynamicAllocation.enabled\", True)\\\n",
    "        .config(\"spark.dynamicAllocation.shuffleTracking.enabled\",True)\\\n",
    "        .config(\"spark.shuffle.service.enabled\", False)\\\n",
    "        .config(\"spark.dynamicAllocation.executorIdleTimeout\",\"300s\")\\\n",
    "        .config(\"spark.executor.cores\",2)\\\n",
    "        .config(\"spark.driver.port\",9998)\\\n",
    "        .config(\"spark.blockManager.port\",10005)\\\n",
    "        .getOrCreate()\n",
    "\n",
    "# Old API (RDD)\n",
    "spark_context = spark_session.sparkContext\n",
    "\n",
    "spark_context.setLogLevel(\"WARN\")"
   ]
  },
  {
   "cell_type": "code",
   "execution_count": 14,
   "metadata": {},
   "outputs": [],
   "source": [
    "# df_rc = spark_session\\\n",
    "#         .read \\\n",
    "#         .option(\"header\", \"true\")\\\n",
    "#         .json('hdfs://master:9000/dataset/RC_2011-07')\\\n",
    "#         .cache() # in-memory\n",
    "# df_rc.printSchema()\n",
    "# print(df_rc.count())\n",
    "# print(data_frame.rdd.getNumPartitions())"
   ]
  },
  {
   "cell_type": "code",
   "execution_count": 15,
   "metadata": {},
   "outputs": [
    {
     "name": "stderr",
     "output_type": "stream",
     "text": [
      "[Stage 0:=====================================================>   (42 + 3) / 45]\r"
     ]
    },
    {
     "name": "stdout",
     "output_type": "stream",
     "text": [
      "10557466\n"
     ]
    },
    {
     "name": "stderr",
     "output_type": "stream",
     "text": [
      "                                                                                \r"
     ]
    }
   ],
   "source": [
    "rc_lines = spark_context.textFile('hdfs://master:9000/dataset/RC_2011-07')\n",
    "\n",
    "rc_num = rc_lines.count()\n",
    "print(rc_num)"
   ]
  },
  {
   "cell_type": "code",
   "execution_count": 16,
   "metadata": {},
   "outputs": [
    {
     "data": {
      "text/plain": [
       "['{\"distinguished\":null,\"downs\":0,\"created_utc\":\"1309478400\",\"controversiality\":0,\"edited\":false,\"gilded\":0,\"author_flair_css_class\":\"mordekaiser\",\"id\":\"c22x4aq\",\"author\":\"adomorn\",\"retrieved_on\":1427302516,\"score_hidden\":false,\"subreddit_id\":\"t5_2rfxx\",\"score\":1,\"name\":\"t1_c22x4aq\",\"author_flair_text\":\"[adomorn] (NA)\",\"link_id\":\"t3_id1nc\",\"archived\":true,\"ups\":1,\"parent_id\":\"t3_id1nc\",\"subreddit\":\"leagueoflegends\",\"body\":\"Good lord.  Yes.\"}',\n",
       " '{\"distinguished\":null,\"created_utc\":\"1309478401\",\"downs\":0,\"controversiality\":0,\"gilded\":0,\"edited\":false,\"author\":\"[deleted]\",\"id\":\"c22x4at\",\"author_flair_css_class\":null,\"retrieved_on\":1427302516,\"score_hidden\":false,\"score\":-3,\"subreddit_id\":\"t5_2qwxl\",\"author_flair_text\":null,\"archived\":true,\"link_id\":\"t3_idpys\",\"name\":\"t1_c22x4at\",\"ups\":-3,\"parent_id\":\"t1_c22wz9g\",\"body\":\"I don\\'t know about that...\",\"subreddit\":\"runescape\"}',\n",
       " '{\"edited\":false,\"gilded\":0,\"author\":\"matts2\",\"author_flair_css_class\":null,\"id\":\"c22x4au\",\"retrieved_on\":1427302516,\"distinguished\":null,\"created_utc\":\"1309478400\",\"downs\":0,\"controversiality\":0,\"ups\":2,\"parent_id\":\"t3_idp2x\",\"body\":\"Explain something about Israel in simple terms? \\\\n\\\\nNo.\\\\n\\\\n\",\"subreddit\":\"Israel\",\"score_hidden\":false,\"score\":2,\"subreddit_id\":\"t5_2qhvo\",\"link_id\":\"t3_idp2x\",\"author_flair_text\":null,\"archived\":true,\"name\":\"t1_c22x4au\"}',\n",
       " '{\"subreddit_id\":\"t5_2rz8w\",\"score\":1,\"name\":\"t1_c22x4av\",\"author_flair_text\":null,\"archived\":true,\"link_id\":\"t3_idm2z\",\"score_hidden\":false,\"subreddit\":\"loseit\",\"body\":\"I would add that the \\'more exercise\\' part shouldn\\'t be more squats. Instead, do some cardio that requires all the muscles to work. Swimming is great to just get the muscles some air. Running, kayaking, jumping jacks, ect. Nothing that is going to be too harsh on the quads. \\\\n\\\\nWhen the muscles get sore, it is an easy excuse to \\'rest.\\' However exercise is the better option and actually helps the soreness go away faster. \",\"ups\":1,\"parent_id\":\"t1_c22wqky\",\"controversiality\":0,\"distinguished\":null,\"downs\":0,\"created_utc\":\"1309478400\",\"retrieved_on\":1427302516,\"edited\":false,\"gilded\":0,\"author_flair_css_class\":null,\"id\":\"c22x4av\",\"author\":\"sexlexia_survivor\"}',\n",
       " '{\"author\":\"misterkrad\",\"id\":\"c22x4aw\",\"author_flair_css_class\":null,\"edited\":false,\"gilded\":0,\"retrieved_on\":1427302516,\"created_utc\":\"1309478402\",\"downs\":0,\"distinguished\":null,\"controversiality\":0,\"parent_id\":\"t3_icpkw\",\"ups\":1,\"body\":\"care to explain #4 ? is it a dead end? no longer actively developed? \",\"subreddit\":\"PHP\",\"score_hidden\":false,\"author_flair_text\":null,\"archived\":true,\"link_id\":\"t3_icpkw\",\"name\":\"t1_c22x4aw\",\"score\":1,\"subreddit_id\":\"t5_2qh38\"}']"
      ]
     },
     "execution_count": 16,
     "metadata": {},
     "output_type": "execute_result"
    }
   ],
   "source": [
    "rc_lines.take(5)"
   ]
  },
  {
   "cell_type": "markdown",
   "metadata": {},
   "source": [
    "# Preprocessing\n",
    "In the preprocessing, we try to split every string into words.\n",
    "1. since the file is a JSON file, each line represents a json object, we load the lines as JSON object;\n",
    "2. the contents of the comments are located in 'body' field, so we extract data in that field;\n",
    "3. convert all the strings into lowercase\n",
    "4. remove all the chars other than alphanumeric chars\n",
    "5. split each line into words"
   ]
  },
  {
   "cell_type": "code",
   "execution_count": 17,
   "metadata": {},
   "outputs": [],
   "source": [
    "def preprocess(rdd):\n",
    "    rdd = rdd.map(lambda line: json.loads(line))\\\n",
    "             .map(lambda line: line['body']) \\\n",
    "             .map(lambda line: line.strip()) \\\n",
    "             .map(lambda line: line.lower()) \n",
    "\n",
    "    pattern = r'[^\\w\\s]' # matches chars other than alphanumeric chars and whitespace chars\n",
    "    rdd = rdd.map(lambda line: re.sub(pattern,'',line)) \\\n",
    "             .map(lambda line: line.split(' ')) \n",
    "\n",
    "    return rdd"
   ]
  },
  {
   "cell_type": "code",
   "execution_count": 18,
   "metadata": {},
   "outputs": [],
   "source": [
    "rc_tokenize = preprocess(rc_lines)"
   ]
  },
  {
   "cell_type": "code",
   "execution_count": 19,
   "metadata": {},
   "outputs": [
    {
     "data": {
      "text/plain": [
       "[['good', 'lord', '', 'yes'],\n",
       " ['i', 'dont', 'know', 'about', 'that'],\n",
       " ['explain',\n",
       "  'something',\n",
       "  'about',\n",
       "  'israel',\n",
       "  'in',\n",
       "  'simple',\n",
       "  'terms',\n",
       "  '\\n\\nno'],\n",
       " ['i',\n",
       "  'would',\n",
       "  'add',\n",
       "  'that',\n",
       "  'the',\n",
       "  'more',\n",
       "  'exercise',\n",
       "  'part',\n",
       "  'shouldnt',\n",
       "  'be',\n",
       "  'more',\n",
       "  'squats',\n",
       "  'instead',\n",
       "  'do',\n",
       "  'some',\n",
       "  'cardio',\n",
       "  'that',\n",
       "  'requires',\n",
       "  'all',\n",
       "  'the',\n",
       "  'muscles',\n",
       "  'to',\n",
       "  'work',\n",
       "  'swimming',\n",
       "  'is',\n",
       "  'great',\n",
       "  'to',\n",
       "  'just',\n",
       "  'get',\n",
       "  'the',\n",
       "  'muscles',\n",
       "  'some',\n",
       "  'air',\n",
       "  'running',\n",
       "  'kayaking',\n",
       "  'jumping',\n",
       "  'jacks',\n",
       "  'ect',\n",
       "  'nothing',\n",
       "  'that',\n",
       "  'is',\n",
       "  'going',\n",
       "  'to',\n",
       "  'be',\n",
       "  'too',\n",
       "  'harsh',\n",
       "  'on',\n",
       "  'the',\n",
       "  'quads',\n",
       "  '\\n\\nwhen',\n",
       "  'the',\n",
       "  'muscles',\n",
       "  'get',\n",
       "  'sore',\n",
       "  'it',\n",
       "  'is',\n",
       "  'an',\n",
       "  'easy',\n",
       "  'excuse',\n",
       "  'to',\n",
       "  'rest',\n",
       "  'however',\n",
       "  'exercise',\n",
       "  'is',\n",
       "  'the',\n",
       "  'better',\n",
       "  'option',\n",
       "  'and',\n",
       "  'actually',\n",
       "  'helps',\n",
       "  'the',\n",
       "  'soreness',\n",
       "  'go',\n",
       "  'away',\n",
       "  'faster'],\n",
       " ['care',\n",
       "  'to',\n",
       "  'explain',\n",
       "  '4',\n",
       "  '',\n",
       "  'is',\n",
       "  'it',\n",
       "  'a',\n",
       "  'dead',\n",
       "  'end',\n",
       "  'no',\n",
       "  'longer',\n",
       "  'actively',\n",
       "  'developed'],\n",
       " ['a',\n",
       "  'society',\n",
       "  'where',\n",
       "  'the',\n",
       "  'main',\n",
       "  'focus',\n",
       "  'is',\n",
       "  'to',\n",
       "  'get',\n",
       "  'out',\n",
       "  'of',\n",
       "  'earth',\n",
       "  'and',\n",
       "  'explore',\n",
       "  'the',\n",
       "  'vast',\n",
       "  'reaches',\n",
       "  'of',\n",
       "  'space'],\n",
       " ['normally',\n",
       "  'when',\n",
       "  'i',\n",
       "  'see',\n",
       "  'bad',\n",
       "  'effects',\n",
       "  'i',\n",
       "  'dont',\n",
       "  'think',\n",
       "  'i',\n",
       "  'could',\n",
       "  'do',\n",
       "  'that',\n",
       "  'better',\n",
       "  'i',\n",
       "  'am',\n",
       "  'not',\n",
       "  'an',\n",
       "  'effects',\n",
       "  'guy',\n",
       "  'and',\n",
       "  'my',\n",
       "  'photoshop',\n",
       "  'mastery',\n",
       "  'only',\n",
       "  'goes',\n",
       "  'so',\n",
       "  'far',\n",
       "  'when',\n",
       "  'it',\n",
       "  'comes',\n",
       "  'to',\n",
       "  'motion',\n",
       "  'this',\n",
       "  'is',\n",
       "  'different',\n",
       "  'i',\n",
       "  'think',\n",
       "  'given',\n",
       "  'an',\n",
       "  'hour',\n",
       "  'or',\n",
       "  'so',\n",
       "  'to',\n",
       "  'familiarize',\n",
       "  'myself',\n",
       "  'with',\n",
       "  'the',\n",
       "  'programs',\n",
       "  'i',\n",
       "  'could',\n",
       "  'do',\n",
       "  'this',\n",
       "  '\\n\\nmy',\n",
       "  'favorite',\n",
       "  'part',\n",
       "  'was',\n",
       "  'the',\n",
       "  'use',\n",
       "  'of',\n",
       "  'emboss',\n",
       "  'on',\n",
       "  'the',\n",
       "  'alien',\n",
       "  'tripod',\n",
       "  'thing',\n",
       "  'that',\n",
       "  'was',\n",
       "  'super',\n",
       "  'classy'],\n",
       " ['deleted'],\n",
       " ['no',\n",
       "  'one',\n",
       "  'wants',\n",
       "  'to',\n",
       "  'talk',\n",
       "  'about',\n",
       "  'how',\n",
       "  'this',\n",
       "  'is',\n",
       "  'widely',\n",
       "  'considered',\n",
       "  'cheating',\n",
       "  'i',\n",
       "  'am',\n",
       "  'genuinely',\n",
       "  'shocked'],\n",
       " ['i', 'dont', 'get', 'it']]"
      ]
     },
     "execution_count": 19,
     "metadata": {},
     "output_type": "execute_result"
    }
   ],
   "source": [
    "rc_tokenize.take(10)"
   ]
  },
  {
   "cell_type": "markdown",
   "metadata": {},
   "source": [
    "# Wordcount\n",
    "In the wordcounting step, we count the words and find the most frequently used words in the dataset."
   ]
  },
  {
   "cell_type": "code",
   "execution_count": 20,
   "metadata": {},
   "outputs": [],
   "source": [
    "def word_count(rdd):\n",
    "    rdd = rdd.flatMap(lambda line: line)\\\n",
    "             .map(lambda word: word.strip()) \\\n",
    "             .filter(lambda x:x!='')\\\n",
    "             .map(lambda word: (word, 1))\\\n",
    "             .reduceByKey(lambda v1, v2 : v1+v2)\\\n",
    "             .map(lambda kv: (kv[1], kv[0])) \\\n",
    "             .sortByKey(False)\\\n",
    "             .map(lambda vk: (vk[1], vk[0]))\n",
    "    return rdd"
   ]
  },
  {
   "cell_type": "markdown",
   "metadata": {},
   "source": [
    "## Get top-10 frequently used words."
   ]
  },
  {
   "cell_type": "code",
   "execution_count": 21,
   "metadata": {},
   "outputs": [
    {
     "name": "stderr",
     "output_type": "stream",
     "text": [
      "                                                                                \r"
     ]
    },
    {
     "data": {
      "text/plain": [
       "[('the', 12056693),\n",
       " ('to', 8183438),\n",
       " ('a', 7682373),\n",
       " ('i', 7091109),\n",
       " ('and', 6359431),\n",
       " ('of', 5508949),\n",
       " ('you', 4887249),\n",
       " ('that', 4467293),\n",
       " ('it', 4365313),\n",
       " ('is', 4319805)]"
      ]
     },
     "execution_count": 21,
     "metadata": {},
     "output_type": "execute_result"
    }
   ],
   "source": [
    "word_count(rc_tokenize).take(10)"
   ]
  },
  {
   "cell_type": "code",
   "execution_count": 22,
   "metadata": {},
   "outputs": [],
   "source": [
    "spark_session.stop()"
   ]
  },
  {
   "cell_type": "markdown",
   "metadata": {},
   "source": [
    "---"
   ]
  },
  {
   "cell_type": "markdown",
   "metadata": {},
   "source": []
  }
 ],
 "metadata": {
  "interpreter": {
   "hash": "31f2aee4e71d21fbe5cf8b01ff0e069b9275f58929596ceb00d14d90e3e16cd6"
  },
  "kernelspec": {
   "display_name": "Python 3.8.10 64-bit",
   "language": "python",
   "name": "python3"
  },
  "language_info": {
   "codemirror_mode": {
    "name": "ipython",
    "version": 3
   },
   "file_extension": ".py",
   "mimetype": "text/x-python",
   "name": "python",
   "nbconvert_exporter": "python",
   "pygments_lexer": "ipython3",
   "version": "3.8.10"
  },
  "orig_nbformat": 4
 },
 "nbformat": 4,
 "nbformat_minor": 2
}
