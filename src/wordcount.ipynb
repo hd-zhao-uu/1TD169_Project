{
 "cells": [
  {
   "cell_type": "code",
   "execution_count": 18,
   "metadata": {},
   "outputs": [],
   "source": [
    "from pyspark.sql import SparkSession\n",
    "from operator import add\n",
    "import re\n",
    "import json\n",
    "import time "
   ]
  },
  {
   "cell_type": "code",
   "execution_count": 19,
   "metadata": {},
   "outputs": [
    {
     "name": "stderr",
     "output_type": "stream",
     "text": [
      "2022-03-13 17:21:40,719 WARN spark.ExecutorAllocationManager: Dynamic allocation without a shuffle service is an experimental feature.\n"
     ]
    }
   ],
   "source": [
    "# New API\n",
    "spark_session = SparkSession\\\n",
    "        .builder\\\n",
    "        .master(\"spark://master:7077\") \\\n",
    "        .appName(\"haodong_zhao_wordcount\")\\\n",
    "        .config(\"spark.executor.cores\",2)\\\n",
    "        .config(\"spark.dynamicAllocation.enabled\", True)\\\n",
    "        .config(\"spark.dynamicAllocation.shuffleTracking.enabled\", True)\\\n",
    "        .config(\"spark.shuffle.service.enabled\", False)\\\n",
    "        .config(\"spark.dynamicAllocation.executorIdleTimeout\",\"30s\")\\\n",
    "        .config(\"spark.driver.port\",9998)\\\n",
    "        .config(\"spark.blockManager.port\",10005)\\\n",
    "        .getOrCreate()\n",
    "\n",
    "# Old API (RDD)\n",
    "spark_context = spark_session.sparkContext\n",
    "\n",
    "spark_context.setLogLevel(\"WARN\")"
   ]
  },
  {
   "cell_type": "code",
   "execution_count": 20,
   "metadata": {},
   "outputs": [],
   "source": [
    "# df_rc = spark_session\\\n",
    "#         .read \\\n",
    "#         .option(\"header\", \"true\")\\\n",
    "#         .json('hdfs://master:9000/dataset/RC_2011-07')\\\n",
    "#         .cache() # in-memory\n",
    "# df_rc.printSchema()\n",
    "# print(df_rc.count())\n",
    "# print(data_frame.rdd.getNumPartitions())"
   ]
  },
  {
   "cell_type": "code",
   "execution_count": 21,
   "metadata": {},
   "outputs": [],
   "source": [
    "# in the debug mode, the results of the steps would be printed.\n",
    "is_debug = False\n"
   ]
  },
  {
   "cell_type": "code",
   "execution_count": 22,
   "metadata": {},
   "outputs": [],
   "source": [
    "# Start Timing\n",
    "start = time.time()"
   ]
  },
  {
   "cell_type": "code",
   "execution_count": 23,
   "metadata": {},
   "outputs": [],
   "source": [
    "rc_lines = spark_context.textFile('hdfs://master:9000/dataset/RC_2011-07')\n",
    "\n",
    "if is_debug:\n",
    "    rc_num = rc_lines.count()\n",
    "    print(rc_num)"
   ]
  },
  {
   "cell_type": "code",
   "execution_count": 24,
   "metadata": {},
   "outputs": [],
   "source": [
    "if is_debug:\n",
    "    rc_lines.take(5)"
   ]
  },
  {
   "cell_type": "markdown",
   "metadata": {},
   "source": [
    "# Preprocessing\n",
    "In the preprocessing, we try to split every string into words.\n",
    "1. since the file is a JSON file, each line represents a json object, we load the lines as JSON object;\n",
    "2. the contents of the comments are located in 'body' field, so we extract data in that field;\n",
    "3. convert all the strings into lowercase\n",
    "4. remove all the chars other than alphanumeric chars\n",
    "5. split each line into words"
   ]
  },
  {
   "cell_type": "code",
   "execution_count": 25,
   "metadata": {},
   "outputs": [],
   "source": [
    "def preprocess(rdd):\n",
    "\n",
    "    rdd = rdd.map(lambda line: json.loads(line))\\\n",
    "             .map(lambda line: line['body']) \\\n",
    "             .map(lambda line: line.strip()) \\\n",
    "             .map(lambda line: line.lower()) \n",
    "\n",
    "    pattern = r'[^\\w\\s]' # matches chars other than alphanumeric chars and whitespace chars\n",
    "    rdd = rdd.map(lambda line: re.sub(pattern,'',line)) \\\n",
    "             .map(lambda line: line.split(' ')) \n",
    "    return rdd"
   ]
  },
  {
   "cell_type": "code",
   "execution_count": 26,
   "metadata": {},
   "outputs": [],
   "source": [
    "rc_tokenize = preprocess(rc_lines)"
   ]
  },
  {
   "cell_type": "code",
   "execution_count": 27,
   "metadata": {},
   "outputs": [],
   "source": [
    "if is_debug:\n",
    "    rc_tokenize.take(10)"
   ]
  },
  {
   "cell_type": "markdown",
   "metadata": {},
   "source": [
    "# Wordcount\n",
    "In the wordcounting step, we count the words and find the most frequently used words in the dataset."
   ]
  },
  {
   "cell_type": "code",
   "execution_count": 28,
   "metadata": {},
   "outputs": [],
   "source": [
    "def word_count(rdd):\n",
    "    rdd = rdd.flatMap(lambda line: line)\\\n",
    "            .map(lambda word: word.strip()) \\\n",
    "            .map(lambda word: (word, 1))\\\n",
    "            .reduceByKey(lambda v1, v2 : v1+v2)\\\n",
    "            .map(lambda kv: (kv[1], kv[0])) \\\n",
    "            .sortByKey(False)\\\n",
    "            .map(lambda vk: (vk[1], vk[0]))\n",
    "    return rdd"
   ]
  },
  {
   "cell_type": "markdown",
   "metadata": {},
   "source": [
    "## Get top-10 frequently used words."
   ]
  },
  {
   "cell_type": "code",
   "execution_count": 29,
   "metadata": {},
   "outputs": [
    {
     "name": "stderr",
     "output_type": "stream",
     "text": [
      "                                                                                \r"
     ]
    },
    {
     "data": {
      "text/plain": [
       "[('the', 12056693),\n",
       " ('to', 8183438),\n",
       " ('a', 7682373),\n",
       " ('i', 7091109),\n",
       " ('and', 6359431),\n",
       " ('of', 5508949),\n",
       " ('', 5143264),\n",
       " ('you', 4887249),\n",
       " ('that', 4467293),\n",
       " ('it', 4365313)]"
      ]
     },
     "execution_count": 29,
     "metadata": {},
     "output_type": "execute_result"
    }
   ],
   "source": [
    "word_count(rc_tokenize).take(10)"
   ]
  },
  {
   "cell_type": "markdown",
   "metadata": {},
   "source": [
    "---"
   ]
  },
  {
   "cell_type": "markdown",
   "metadata": {},
   "source": [
    "# Timing"
   ]
  },
  {
   "cell_type": "code",
   "execution_count": 30,
   "metadata": {},
   "outputs": [],
   "source": [
    "end = time.time()\n",
    "elasped = end - start"
   ]
  },
  {
   "cell_type": "code",
   "execution_count": 31,
   "metadata": {},
   "outputs": [
    {
     "name": "stdout",
     "output_type": "stream",
     "text": [
      "Elasped time: 135.34742069244385s\n"
     ]
    }
   ],
   "source": [
    "print(\"Elasped time: {}s\".format(elasped))"
   ]
  },
  {
   "cell_type": "markdown",
   "metadata": {},
   "source": [
    "---"
   ]
  },
  {
   "cell_type": "markdown",
   "metadata": {},
   "source": []
  },
  {
   "cell_type": "code",
   "execution_count": 32,
   "metadata": {},
   "outputs": [],
   "source": [
    "spark_session.stop()"
   ]
  }
 ],
 "metadata": {
  "interpreter": {
   "hash": "31f2aee4e71d21fbe5cf8b01ff0e069b9275f58929596ceb00d14d90e3e16cd6"
  },
  "kernelspec": {
   "display_name": "Python 3.8.10 64-bit",
   "language": "python",
   "name": "python3"
  },
  "language_info": {
   "codemirror_mode": {
    "name": "ipython",
    "version": 3
   },
   "file_extension": ".py",
   "mimetype": "text/x-python",
   "name": "python",
   "nbconvert_exporter": "python",
   "pygments_lexer": "ipython3",
   "version": "3.8.10"
  },
  "orig_nbformat": 4
 },
 "nbformat": 4,
 "nbformat_minor": 2
}
